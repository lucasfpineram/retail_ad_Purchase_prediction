{
 "cells": [
  {
   "cell_type": "code",
   "execution_count": 23,
   "metadata": {},
   "outputs": [],
   "source": [
    "from IPython.display import display, Markdown\n",
    "\n",
    "import pandas as pd\n",
    "import gc\n",
    "from sklearn.impute import SimpleImputer\n",
    "from sklearn.tree import DecisionTreeClassifier\n",
    "\n",
    "from sklearn.ensemble import RandomForestClassifier\n",
    "\n",
    "from sklearn.pipeline import make_pipeline\n",
    "\n",
    "from sklearn.model_selection import RandomizedSearchCV, train_test_split, KFold, cross_val_score\n",
    "\n",
    "from sklearn.metrics import roc_auc_score\n",
    "\n",
    "from hyperopt import hp, fmin, tpe, Trials, STATUS_OK, space_eval\n",
    "\n",
    "from sklearn.tree import plot_tree\n",
    "\n",
    "from sklearn.preprocessing import LabelEncoder, PolynomialFeatures, StandardScaler, OneHotEncoder\n",
    "\n",
    "from scipy.sparse import hstack\n",
    "\n",
    "# XGBoost\n",
    "import xgboost as xgb\n",
    "\n",
    "import numpy as np\n",
    "\n",
    "import matplotlib.pyplot as plt\n",
    "\n",
    "import itertools\n",
    "from scipy.stats import uniform\n",
    "import pandas as pd # Para cargar los datos y hacer OHE.\n",
    "import numpy as np  # Para lidiar con NaNs.\n",
    "import time\n",
    "import sklearn\n",
    "from sklearn.model_selection import train_test_split\n",
    "from sklearn.metrics import balanced_accuracy_score, roc_auc_score, make_scorer\n",
    "from sklearn.model_selection import ParameterSampler\n",
    "from sklearn.metrics import confusion_matrix\n",
    "\n",
    "random_state = 42\n",
    "np.random.seed(random_state)\n"
   ]
  },
  {
   "cell_type": "code",
   "execution_count": 24,
   "metadata": {},
   "outputs": [],
   "source": [
    "# Load the competition data\n",
    "comp_data = pd.read_csv(\"../competition_data.csv\")\n",
    "\n",
    "#aher OHE con pdp\n",
    "comp_data['is_pdp'].fillna(-1, inplace=True)\n"
   ]
  },
  {
   "cell_type": "code",
   "execution_count": 25,
   "metadata": {},
   "outputs": [],
   "source": [
    "\n",
    "comp_data = pd.get_dummies(comp_data, columns=['is_pdp'], prefix='is_pdp')\n",
    "\n",
    "comp_data = pd.get_dummies(comp_data, columns=['listing_type_id','logistic_type','platform'])"
   ]
  },
  {
   "cell_type": "code",
   "execution_count": 26,
   "metadata": {},
   "outputs": [],
   "source": [
    "comp_data = comp_data.drop(\n",
    "    columns=['accepts_mercadopago',\n",
    "            # 'available_quantity',\n",
    "            # 'avg_gmv_item_domain_30days',\n",
    "            # 'avg_gmv_item_sel',\n",
    "            # 'avg_gmv_seller_bday',\n",
    "            # 'avg_qty_orders_item_domain_30days',\n",
    "            # 'avg_qty_orders_item_sel_30days',\n",
    "            # 'avg_si_item_sel_30day',\n",
    "            'benefit',\n",
    "            'boosted',\n",
    "            'category_id',\n",
    "            # 'conversion',\n",
    "            'date',             #chiche d efechas separar dia mes etc\n",
    "            'deal_print_id',\n",
    "            'domain_id',\n",
    "            'etl_version',\n",
    "            'free_shipping',    \n",
    "            'fulfillment',\n",
    "            'full_name',\n",
    "            # 'health',\n",
    "            # 'is_pdp',\n",
    "            'product_id',\n",
    "            'item_id',\n",
    "            # 'listing_type_id', #hacer OHE\n",
    "            # 'logistic_type',   #hacer OHE\n",
    "            'main_picture',\n",
    "            # 'offset',\n",
    "            # 'original_price',\n",
    "            # 'platform',        #hacer OHE\n",
    "            # 'price',\n",
    "            # 'print_position',\n",
    "            'print_server_timestamp',\n",
    "            # 'qty_items_dom',\n",
    "            # 'qty_items_sel',\n",
    "            'site_id',\n",
    "            # 'sold_quantity',\n",
    "            'tags',             #experimentar\n",
    "            'title',            #W2vec\n",
    "            # 'total_asp_item_domain_30days',\n",
    "            # 'total_asp_item_sel_30days',\n",
    "            # 'total_gmv_domain_bday',\n",
    "            # 'total_gmv_item_30days',\n",
    "            # 'total_items_domain',\n",
    "            # 'total_items_seller',\n",
    "            # 'total_orders_domain_30days',\n",
    "            # 'total_orders_item_30days',\n",
    "            # 'total_orders_sel_30days',\n",
    "            # 'total_si_domain_30days',\n",
    "            # 'total_si_item_30days',\n",
    "            # 'total_si_sel_30days',\n",
    "            # 'total_visits_domain',\n",
    "            # 'total_visits_item',\n",
    "            # 'total_visits_seller',\n",
    "            'uid',\n",
    "            'user_id',\n",
    "            'warranty',\n",
    "            # 'ROW_ID'\n",
    "            ]\n",
    ")"
   ]
  },
  {
   "cell_type": "code",
   "execution_count": 27,
   "metadata": {},
   "outputs": [],
   "source": [
    "\n",
    "# Split into training and evaluation samples\n",
    "train_data = comp_data[comp_data[\"ROW_ID\"].isna()]\n",
    "eval_data = comp_data[comp_data[\"ROW_ID\"].notna()]\n",
    "del comp_data\n",
    "gc.collect()\n",
    "\n",
    "y_train_all = train_data[\"conversion\"]\n",
    "X_train_all = train_data.drop(columns=[\"conversion\", \"ROW_ID\"])\n",
    "# X_train_all = X_train_all.select_dtypes(include='number') \n",
    "del train_data\n",
    "gc.collect()\n",
    "\n",
    "#hold out set\n",
    "X_train, X_val, y_train, y_val = train_test_split(X_train_all, y_train_all, test_size=0.2, random_state=random_state)\n"
   ]
  },
  {
   "cell_type": "code",
   "execution_count": 28,
   "metadata": {},
   "outputs": [
    {
     "data": {
      "text/plain": [
       "available_quantity                     int64\n",
       "avg_gmv_item_domain_30days           float64\n",
       "avg_gmv_item_sel                     float64\n",
       "avg_gmv_seller_bday                  float64\n",
       "avg_qty_orders_item_domain_30days    float64\n",
       "avg_qty_orders_item_sel_30days       float64\n",
       "avg_si_item_sel_30day                float64\n",
       "health                               float64\n",
       "offset                                 int64\n",
       "original_price                         int64\n",
       "price                                  int64\n",
       "print_position                         int64\n",
       "qty_items_dom                        float64\n",
       "qty_items_sel                        float64\n",
       "sold_quantity                          int64\n",
       "total_asp_item_domain_30days         float64\n",
       "total_asp_item_sel_30days            float64\n",
       "total_gmv_domain_bday                float64\n",
       "total_gmv_item_30days                float64\n",
       "total_items_domain                     int64\n",
       "total_items_seller                     int64\n",
       "total_orders_domain_30days           float64\n",
       "total_orders_item_30days             float64\n",
       "total_orders_sel_30days              float64\n",
       "total_si_domain_30days               float64\n",
       "total_si_item_30days                 float64\n",
       "total_si_sel_30days                  float64\n",
       "total_visits_domain                    int64\n",
       "total_visits_item                      int64\n",
       "total_visits_seller                    int64\n",
       "is_pdp_-1                               bool\n",
       "is_pdp_False                            bool\n",
       "is_pdp_True                             bool\n",
       "listing_type_id_gold_pro                bool\n",
       "listing_type_id_gold_special            bool\n",
       "logistic_type_cross_docking             bool\n",
       "logistic_type_custom                    bool\n",
       "logistic_type_default                   bool\n",
       "logistic_type_drop_off                  bool\n",
       "logistic_type_fulfillment               bool\n",
       "logistic_type_not_specified             bool\n",
       "logistic_type_xd_drop_off               bool\n",
       "platform_/mobile/android                bool\n",
       "platform_/mobile/ios                    bool\n",
       "platform_/web/desktop                   bool\n",
       "platform_/web/mobile                    bool\n",
       "dtype: object"
      ]
     },
     "execution_count": 28,
     "metadata": {},
     "output_type": "execute_result"
    }
   ],
   "source": [
    "X_train.dtypes"
   ]
  },
  {
   "cell_type": "code",
   "execution_count": 30,
   "metadata": {},
   "outputs": [
    {
     "name": "stdout",
     "output_type": "stream",
     "text": [
      "Roc-AUC actual; 0.8798928462394783\n",
      "Con grid: {'colsample_bytree': 0.7810890415965769, 'gamma': 14.260714596148743, 'learning_rate': 0.02195981825434215, 'max_depth': 7, 'min_child_weight': 7.800932022121826, 'n_estimators': 966, 'reg_lambda': 1.4996237372700434, 'subsample': 0.7296244459829335}\n",
      "----------\n",
      "Mejor valor de ROC-AUC encontrado: 0.8798928462394783\n",
      "Grid{'colsample_bytree': 0.7810890415965769, 'gamma': 14.260714596148743, 'learning_rate': 0.02195981825434215, 'max_depth': 7, 'min_child_weight': 7.800932022121826, 'n_estimators': 966, 'reg_lambda': 1.4996237372700434, 'subsample': 0.7296244459829335}\n",
      "----------\n",
      "Roc-AUC actual; 0.8908614195855594\n",
      "Con grid: {'colsample_bytree': 0.7667980138986576, 'gamma': 2.143002268829112, 'learning_rate': 0.019526654188465584, 'max_depth': 7, 'min_child_weight': 48.49549260809972, 'n_estimators': 2015, 'reg_lambda': 14.078290635236252, 'subsample': 0.5003893829205072}\n",
      "----------\n",
      "Mejor valor de ROC-AUC encontrado: 0.8908614195855594\n",
      "Grid{'colsample_bytree': 0.7667980138986576, 'gamma': 2.143002268829112, 'learning_rate': 0.019526654188465584, 'max_depth': 7, 'min_child_weight': 48.49549260809972, 'n_estimators': 2015, 'reg_lambda': 14.078290635236252, 'subsample': 0.5003893829205072}\n",
      "----------\n",
      "Roc-AUC actual; 0.8841577456566454\n",
      "Con grid: {'colsample_bytree': 0.9972740457519261, 'gamma': 9.262222644415749, 'learning_rate': 0.018349594814648425, 'max_depth': 11, 'min_child_weight': 14.561457009902096, 'n_estimators': 1582, 'reg_lambda': 5.997914575728832, 'subsample': 0.5233328316068078}\n",
      "Roc-AUC actual; 0.8766625770848409\n",
      "Con grid: {'colsample_bytree': 0.9908144315945107, 'gamma': 3.4915701064545637, 'learning_rate': 0.002718193035984624, 'max_depth': 5, 'min_child_weight': 19.12309956335814, 'n_estimators': 1767, 'reg_lambda': 8.886218532930638, 'subsample': 0.5232252063599989}\n",
      "Roc-AUC actual; 0.8703417184891101\n",
      "Con grid: {'colsample_bytree': 0.8626406981655035, 'gamma': 2.557861855309373, 'learning_rate': 0.0019515477895583853, 'max_depth': 6, 'min_child_weight': 47.11008778424264, 'n_estimators': 513, 'reg_lambda': 12.125960221746917, 'subsample': 0.6523068845866853}\n",
      "Roc-AUC actual; 0.8821392118123148\n",
      "Con grid: {'colsample_bytree': 0.6841852399022343, 'gamma': 10.263495397682354, 'learning_rate': 0.01320457481218804, 'max_depth': 9, 'min_child_weight': 30.499832889131046, 'n_estimators': 1275, 'reg_lambda': 0.5158278167282759, 'subsample': 0.954660201039391}\n",
      "Roc-AUC actual; 0.8821931781652572\n",
      "Con grid: {'colsample_bytree': 0.7405729935600059, 'gamma': 9.93783426530973, 'learning_rate': 0.009351332282682328, 'max_depth': 8, 'min_child_weight': 10.397083143409441, 'n_estimators': 2295, 'reg_lambda': 2.7728168328829055, 'subsample': 0.9847923138822793}\n",
      "Roc-AUC actual; 0.8806493052514037\n",
      "Con grid: {'colsample_bytree': 0.9212964881763901, 'gamma': 14.092484123462837, 'learning_rate': 0.026844820512829465, 'max_depth': 10, 'min_child_weight': 28.52219872026997, 'n_estimators': 1775, 'reg_lambda': 0.678409333658071, 'subsample': 0.6626651653816322}\n",
      "Roc-AUC actual; 0.8914935116752712\n",
      "Con grid: {'colsample_bytree': 0.7860370513913187, 'gamma': 4.070235476608438, 'learning_rate': 0.02486212527455788, 'max_depth': 11, 'min_child_weight': 14.046725484369038, 'n_estimators': 879, 'reg_lambda': 4.1399877303381505, 'subsample': 0.6481367528520412}\n",
      "----------\n",
      "Mejor valor de ROC-AUC encontrado: 0.8914935116752712\n",
      "Grid{'colsample_bytree': 0.7860370513913187, 'gamma': 4.070235476608438, 'learning_rate': 0.02486212527455788, 'max_depth': 11, 'min_child_weight': 14.046725484369038, 'n_estimators': 879, 'reg_lambda': 4.1399877303381505, 'subsample': 0.6481367528520412}\n",
      "----------\n",
      "Roc-AUC actual; 0.8835728646692972\n",
      "Con grid: {'colsample_bytree': 0.7078434286720509, 'gamma': 0.23454610111790897, 'learning_rate': 0.012702044421191088, 'max_depth': 3, 'min_child_weight': 9.93578407670862, 'n_estimators': 1995, 'reg_lambda': 0.21119734072626684, 'subsample': 0.5994212020444025}\n",
      "Roc-AUC actual; 0.8810347194425172\n",
      "Con grid: {'colsample_bytree': 0.8989696834620275, 'gamma': 11.852633107968085, 'learning_rate': 0.01817879924343034, 'max_depth': 9, 'min_child_weight': 32.55385127509722, 'n_estimators': 1551, 'reg_lambda': 12.946551388133903, 'subsample': 0.811649063413779}\n",
      "Roc-AUC actual; 0.8906778707941467\n",
      "Con grid: {'colsample_bytree': 0.7658143086984273, 'gamma': 0.9533752542903545, 'learning_rate': 0.009329469651469866, 'max_depth': 10, 'min_child_weight': 33.296117830874834, 'n_estimators': 1183, 'reg_lambda': 9.563362070328196, 'subsample': 0.9436063712881633}\n",
      "Roc-AUC actual; 0.881797635548375\n",
      "Con grid: {'colsample_bytree': 0.8152752238066823, 'gamma': 1.7939136890745255, 'learning_rate': 0.021397343616689848, 'max_depth': 3, 'min_child_weight': 36.08647605824366, 'n_estimators': 1002, 'reg_lambda': 11.564507699318415, 'subsample': 0.7468977981821954}\n",
      "Roc-AUC actual; 0.8691285101959694\n",
      "Con grid: {'colsample_bytree': 0.8329564902836979, 'gamma': 6.413115275378244, 'learning_rate': 0.0007625738023228556, 'max_depth': 5, 'min_child_weight': 1.5714592843367126, 'n_estimators': 1242, 'reg_lambda': 7.130553347731676, 'subsample': 0.7816377859881918}\n",
      "Roc-AUC actual; 0.8908123572419304\n",
      "Con grid: {'colsample_bytree': 0.8934306302491446, 'gamma': 2.089971816088135, 'learning_rate': 0.018132521378334515, 'max_depth': 6, 'min_child_weight': 47.14267852789905, 'n_estimators': 2362, 'reg_lambda': 4.346271793706521, 'subsample': 0.5806106436270022}\n",
      "Roc-AUC actual; 0.881027038571306\n",
      "Con grid: {'colsample_bytree': 0.9753941783199005, 'gamma': 12.121805693466253, 'learning_rate': 0.019002112695312705, 'max_depth': 8, 'min_child_weight': 22.826728524145512, 'n_estimators': 2143, 'reg_lambda': 2.7985508832905377, 'subsample': 0.9462794992449889}\n",
      "Roc-AUC actual; 0.8814611457478154\n",
      "Con grid: {'colsample_bytree': 0.8387697846704778, 'gamma': 12.111602327460938, 'learning_rate': 0.026882738997704797, 'max_depth': 9, 'min_child_weight': 45.3414220772877, 'n_estimators': 1908, 'reg_lambda': 3.4190274381291252, 'subsample': 0.7135538943131281}\n",
      "Roc-AUC actual; 0.8692256514113054\n",
      "Con grid: {'colsample_bytree': 0.9363051680728727, 'gamma': 12.910958748845152, 'learning_rate': 0.00020856391593572108, 'max_depth': 10, 'min_child_weight': 26.7044709687721, 'n_estimators': 817, 'reg_lambda': 3.3316171570609536, 'subsample': 0.5599326836668415}\n",
      "Roc-AUC actual; 0.8794958617904568\n",
      "Con grid: {'colsample_bytree': 0.7681653099912698, 'gamma': 14.143645558687787, 'learning_rate': 0.009696087960622657, 'max_depth': 10, 'min_child_weight': 35.15094794475889, 'n_estimators': 1636, 'reg_lambda': 0.9733837066347234, 'subsample': 0.6269577069671723}\n",
      "Roc-AUC actual; 0.8809028585532589\n",
      "Con grid: {'colsample_bytree': 0.7364066219935105, 'gamma': 10.444564092596826, 'learning_rate': 0.02136811769773326, 'max_depth': 7, 'min_child_weight': 14.242024718873381, 'n_estimators': 1604, 'reg_lambda': 4.001715214129275, 'subsample': 0.9883074779163264}\n"
     ]
    }
   ],
   "source": [
    "#ver uan forma de tener mejor parametos que gerar\n",
    "params = {'max_depth': list(range(3, 12)),\n",
    "          'learning_rate': uniform(scale = 0.03),\n",
    "          'gamma': uniform(scale=15),               #chiche va de 1 a 20\n",
    "          'reg_lambda': uniform(scale = 15),        # Parámetro de regularización.\n",
    "          'subsample': uniform(0.5, 0.5),          # Entre 0.5 y 1.\n",
    "          'min_child_weight': uniform(scale = 50),   #0 a 100\n",
    "          'colsample_bytree': uniform(0.65, 0.35), # Entre 0.75 y 1.\n",
    "          'n_estimators': list(range(500, 2500))    #ma que 500 tambein a la noche para que corra\n",
    "         }\n",
    "\n",
    "diccionario_auc_grid = {'g': None, 'auc': None}\n",
    "start = time.time()\n",
    "best_score = 0\n",
    "best_estimator = None\n",
    "iterations = 20\n",
    "for g in ParameterSampler(params, n_iter = iterations, random_state = random_state):\n",
    "    clf_xgb = xgb.XGBClassifier(objective = 'binary:logistic', seed = random_state, eval_metric = 'auc', **g, tree_method = 'gpu_hist') #enable_categorical = True\n",
    "    clf_xgb.fit(X_train, y_train, eval_set = [(X_val, y_val)], verbose = False)\n",
    "\n",
    "    y_pred = clf_xgb.predict_proba(X_val)[:, 1] # Obtenemos la probabilidad de una de las clases (cualquiera).\n",
    "    auc_roc = sklearn.metrics.roc_auc_score(y_val, y_pred)\n",
    "    \n",
    "    diccionario_auc_grid['auc'] = auc_roc\n",
    "    diccionario_auc_grid['g'] = g\n",
    "    print(f'Roc-AUC actual; {auc_roc}')\n",
    "    print(f'Con grid: {g}')\n",
    "    # Guardamos si es mejor.\n",
    "    if auc_roc > best_score:\n",
    "        print('-'*10)\n",
    "        print(f'Mejor valor de ROC-AUC encontrado: {auc_roc}')\n",
    "        print(f'Grid{g}')\n",
    "        print('-'*10)\n",
    "        best_score = auc_roc\n",
    "        best_grid = g\n",
    "        best_estimator = clf_xgb\n",
    "\n",
    "end = time.time()\n",
    "\n"
   ]
  },
  {
   "cell_type": "code",
   "execution_count": 31,
   "metadata": {},
   "outputs": [
    {
     "name": "stdout",
     "output_type": "stream",
     "text": [
      "ROC-AUC: 0.89149\n",
      "Grilla: {'colsample_bytree': 0.7860370513913187, 'gamma': 4.070235476608438, 'learning_rate': 0.02486212527455788, 'max_depth': 11, 'min_child_weight': 14.046725484369038, 'n_estimators': 879, 'reg_lambda': 4.1399877303381505, 'subsample': 0.6481367528520412}\n",
      "Tiempo transcurrido: 292.3969693183899 segundos\n",
      "Tiempo de entrenamiento por iteración: 14.62 segundos\n"
     ]
    }
   ],
   "source": [
    "print('ROC-AUC: %0.5f' % best_score)\n",
    "print('Grilla:', best_grid)\n",
    "print(f'Tiempo transcurrido: {str(end - start)} segundos')\n",
    "print(f'Tiempo de entrenamiento por iteración: {str(round((end - start) / iterations, 2))} segundos')"
   ]
  },
  {
   "cell_type": "markdown",
   "metadata": {},
   "source": [
    "ahora con toda la data el prosible auc:"
   ]
  },
  {
   "cell_type": "code",
   "execution_count": 32,
   "metadata": {},
   "outputs": [
    {
     "name": "stdout",
     "output_type": "stream",
     "text": [
      "AUC-ROC test: 0.89149\n"
     ]
    }
   ],
   "source": [
    "y_pred = best_estimator.predict_proba(X_val)[:, 1]\n",
    "auc_roc = sklearn.metrics.roc_auc_score(y_val, y_pred)\n",
    "print('AUC-ROC test: %0.5f' % auc_roc)"
   ]
  },
  {
   "cell_type": "markdown",
   "metadata": {},
   "source": [
    "entreno con toda la data train+val"
   ]
  },
  {
   "cell_type": "code",
   "execution_count": 33,
   "metadata": {},
   "outputs": [],
   "source": [
    "clf_xgb = xgb.XGBClassifier(objective = 'binary:logistic', seed = random_state, eval_metric = 'auc', **best_grid,tree_method = 'gpu_hist') #enable_categorical = True\n",
    "clf_xgb.fit(X_train_all, y_train_all, verbose = False)\n",
    "final_model = clf_xgb"
   ]
  },
  {
   "cell_type": "code",
   "execution_count": 34,
   "metadata": {},
   "outputs": [],
   "source": [
    "\n",
    "y_pred_submi = final_model.predict_proba(eval_data.drop(columns=[\"conversion\", \"ROW_ID\"]))[:, 1]"
   ]
  },
  {
   "cell_type": "markdown",
   "metadata": {},
   "source": [
    "Creo el submission"
   ]
  },
  {
   "cell_type": "code",
   "execution_count": 36,
   "metadata": {},
   "outputs": [],
   "source": [
    "# y_preds = cls.predict_proba(eval_data.drop(columns=[\"ROW_ID\"]))[:, cls.classes_ == 1].squeeze()\n",
    "# Make the submission file\n",
    "submission_df = pd.DataFrame({\"ROW_ID\": eval_data[\"ROW_ID\"], \"conversion\": y_pred_submi})\n",
    "submission_df[\"ROW_ID\"] = submission_df[\"ROW_ID\"].astype(int)\n",
    "submission_df.to_csv(\"basicOHE_XGB_GS_29.csv\", sep=\",\", index=False)"
   ]
  },
  {
   "cell_type": "code",
   "execution_count": null,
   "metadata": {},
   "outputs": [],
   "source": []
  }
 ],
 "metadata": {
  "kernelspec": {
   "display_name": "base",
   "language": "python",
   "name": "python3"
  },
  "language_info": {
   "codemirror_mode": {
    "name": "ipython",
    "version": 3
   },
   "file_extension": ".py",
   "mimetype": "text/x-python",
   "name": "python",
   "nbconvert_exporter": "python",
   "pygments_lexer": "ipython3",
   "version": "3.10.5"
  },
  "orig_nbformat": 4
 },
 "nbformat": 4,
 "nbformat_minor": 2
}
